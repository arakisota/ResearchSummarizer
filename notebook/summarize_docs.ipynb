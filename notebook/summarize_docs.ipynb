{
 "cells": [
  {
   "cell_type": "code",
   "execution_count": 1,
   "metadata": {},
   "outputs": [],
   "source": [
    "## PDFデータのロード\n",
    "### ライブラリの読み込み\n",
    "import os\n",
    "from langchain.document_loaders import PyPDFLoader\n",
    "from langchain.embeddings.openai import OpenAIEmbeddings\n",
    "from langchain.vectorstores import Chroma"
   ]
  },
  {
   "cell_type": "code",
   "execution_count": 2,
   "metadata": {},
   "outputs": [
    {
     "name": "stdout",
     "output_type": "stream",
     "text": [
      "page_content='electronics\\nArticle\\nA Machine Learning Approach for Anomaly Detection in\\nIndustrial Control Systems Based on Measurement Data\\nSohrab Mokhtari1,*, Alireza Abbaspour2, Kang K. Yen1and Arman Sargolzaei3\\n/gid00030/gid00035/gid00032/gid00030/gid00038/gid00001/gid00033/gid00042/gid00045 /gid00001\\n/gid00048/gid00043/gid00031/gid00028/gid00047/gid00032/gid00046\\nCitation: Mokhtari, S.; Abbaspour,\\nA.; Yen, K.K.; Sargolzaei, A. A\\nMachine Learning Approach for\\nAnomaly Detection in Industrial\\nControl Systems Based on\\nMeasurement Data. Electronics 2021 ,\\n10, 407. https://doi.org/10.3390/\\nelectronics10040407\\nAcademic Editor: Rashid Mehmood\\nReceived: 1 January 2021\\nAccepted: 1 February 2021\\nPublished: 8 February 2021\\nPublisher’s Note: MDPI stays neu-\\ntral with regard to jurisdictional clai-\\nms in published maps and institutio-\\nnal afﬁliations.\\nCopyright: © 2021 by the authors. Li-\\ncensee MDPI, Basel, Switzerland.\\nThis article is an open access article\\ndistributed under the terms and con-\\nditions of the Creative Commons At-\\ntribution (CC BY) license (https://\\ncreativecommons.org/licenses/by/\\n4.0/).1Electrical and Computer Engineering Department, Florida International University, Miami, FL 33174, USA;\\nyenk@ﬁu.edu\\n2Functional Safety Engineer, Tusimple Co., San Diego, CA 92093, USA; Aabba014@ﬁu.edu\\n3Mechanical Engineering Department, Tennessee Technological University, Cookeville, TN 38505, USA;\\na.sargolzaei@gmail.com\\n*Correspondence: somokhta@ﬁu.edu; Tel.: +1-305-680-4338\\nAbstract: Attack detection problems in industrial control systems (ICSs) are commonly known\\nas a network trafﬁc monitoring scheme for detecting abnormal activities. However, a network-\\nbased intrusion detection system can be deceived by attackers that imitate the system’s normal\\nactivity. In this work, we proposed a novel solution to this problem based on measurement data\\nin the supervisory control and data acquisition (SCADA) system. The proposed approach is called\\nmeasurement intrusion detection system (MIDS), which enables the system to detect any abnormal\\nactivity in the system even if the attacker tries to conceal it in the system’s control layer. A supervised\\nmachine learning model is generated to classify normal and abnormal activities in an ICS to evaluate\\nthe MIDS performance. A hardware-in-the-loop (HIL) testbed is developed to simulate the power\\ngeneration units and exploit the attack dataset. In the proposed approach, we applied several machine\\nlearning models on the dataset, which show remarkable performances in detecting the dataset’s\\nanomalies, especially stealthy attacks. The results show that the random forest is performing better\\nthan other classiﬁer algorithms in detecting anomalies based on measured data in the testbed.\\nKeywords: machine learning; industrial control systems; anomaly detection; fault detection;\\nintrusion detection system\\n1. Introduction\\nThe industrial control system (ICS) consists of devices, networks, and controllers\\nto automate industrial processes. ICS contains several types of control systems, such as\\nsupervisory control and data acquisition (SCADA) systems, and distributed control systems\\n(DCSs). ICSs are widely used in different critical infrastructures such as smart grids, power\\ndistribution, transportation systems, water treatment plants, and manufacturing [ 1,2].\\nIn the power plants, ICS’s key role is evident, and a multitude of automated systems are\\noperating in a SCADA framework. The automated systems’ entanglements could endanger\\nthe entire system’s performance, where a small fault or malfunction would lead to a cascade\\nfailure. Thus, fault detection in ICSs, especially in critical infrastructures such as large-scale\\npower plants, has attracted much attention in recent years [3–6].\\nGenerally, communication between ICS components is based on an information tech-\\nnology stack (ITS) and remote connectivity. The reliance on communication networks\\nto transmit measurements could increase the possibility of intentional attacks against' metadata={'source': '/Users/sotaaraki/ResearchSummarizer/data/electronics-10-00407-v2.pdf', 'page': 0}\n"
     ]
    }
   ],
   "source": [
    "loader = PyPDFLoader(\"/Users/sotaaraki/ResearchSummarizer/data/electronics-10-00407-v2.pdf\")\n",
    "pages = loader.load_and_split()\n",
    "print(pages[0])"
   ]
  },
  {
   "cell_type": "code",
   "execution_count": 3,
   "metadata": {},
   "outputs": [
    {
     "data": {
      "text/plain": [
       "[Document(page_content='electronics\\nArticle\\nA Machine Learning Approach for Anomaly Detection in\\nIndustrial Control Systems Based on Measurement Data\\nSohrab Mokhtari1,*, Alireza Abbaspour2, Kang K. Yen1and Arman Sargolzaei3\\n/gid00030/gid00035/gid00032/gid00030/gid00038/gid00001/gid00033/gid00042/gid00045 /gid00001\\n/gid00048/gid00043/gid00031/gid00028/gid00047/gid00032/gid00046\\nCitation: Mokhtari, S.; Abbaspour,\\nA.; Yen, K.K.; Sargolzaei, A. A\\nMachine Learning Approach for\\nAnomaly Detection in Industrial\\nControl Systems Based on\\nMeasurement Data. Electronics 2021 ,\\n10, 407. https://doi.org/10.3390/\\nelectronics10040407\\nAcademic Editor: Rashid Mehmood\\nReceived: 1 January 2021\\nAccepted: 1 February 2021\\nPublished: 8 February 2021\\nPublisher’s Note: MDPI stays neu-\\ntral with regard to jurisdictional clai-\\nms in published maps and institutio-\\nnal afﬁliations.\\nCopyright: © 2021 by the authors. Li-\\ncensee MDPI, Basel, Switzerland.\\nThis article is an open access article\\ndistributed under the terms and con-\\nditions of the Creative Commons At-\\ntribution (CC BY) license (https://\\ncreativecommons.org/licenses/by/\\n4.0/).1Electrical and Computer Engineering Department, Florida International University, Miami, FL 33174, USA;\\nyenk@ﬁu.edu\\n2Functional Safety Engineer, Tusimple Co., San Diego, CA 92093, USA; Aabba014@ﬁu.edu\\n3Mechanical Engineering Department, Tennessee Technological University, Cookeville, TN 38505, USA;\\na.sargolzaei@gmail.com\\n*Correspondence: somokhta@ﬁu.edu; Tel.: +1-305-680-4338\\nAbstract: Attack detection problems in industrial control systems (ICSs) are commonly known\\nas a network trafﬁc monitoring scheme for detecting abnormal activities. However, a network-\\nbased intrusion detection system can be deceived by attackers that imitate the system’s normal\\nactivity. In this work, we proposed a novel solution to this problem based on measurement data\\nin the supervisory control and data acquisition (SCADA) system. The proposed approach is called\\nmeasurement intrusion detection system (MIDS), which enables the system to detect any abnormal\\nactivity in the system even if the attacker tries to conceal it in the system’s control layer. A supervised\\nmachine learning model is generated to classify normal and abnormal activities in an ICS to evaluate\\nthe MIDS performance. A hardware-in-the-loop (HIL) testbed is developed to simulate the power\\ngeneration units and exploit the attack dataset. In the proposed approach, we applied several machine\\nlearning models on the dataset, which show remarkable performances in detecting the dataset’s\\nanomalies, especially stealthy attacks. The results show that the random forest is performing better\\nthan other classiﬁer algorithms in detecting anomalies based on measured data in the testbed.\\nKeywords: machine learning; industrial control systems; anomaly detection; fault detection;\\nintrusion detection system\\n1. Introduction\\nThe industrial control system (ICS) consists of devices, networks, and controllers\\nto automate industrial processes. ICS contains several types of control systems, such as\\nsupervisory control and data acquisition (SCADA) systems, and distributed control systems\\n(DCSs). ICSs are widely used in different critical infrastructures such as smart grids, power\\ndistribution, transportation systems, water treatment plants, and manufacturing [ 1,2].\\nIn the power plants, ICS’s key role is evident, and a multitude of automated systems are\\noperating in a SCADA framework. The automated systems’ entanglements could endanger\\nthe entire system’s performance, where a small fault or malfunction would lead to a cascade\\nfailure. Thus, fault detection in ICSs, especially in critical infrastructures such as large-scale\\npower plants, has attracted much attention in recent years [3–6].\\nGenerally, communication between ICS components is based on an information tech-\\nnology stack (ITS) and remote connectivity. The reliance on communication networks\\nto transmit measurements could increase the possibility of intentional attacks against', metadata={'source': '/Users/sotaaraki/ResearchSummarizer/data/electronics-10-00407-v2.pdf', 'page': 0}),\n",
       " Document(page_content='nology stack (ITS) and remote connectivity. The reliance on communication networks\\nto transmit measurements could increase the possibility of intentional attacks against\\nphysical plants. Conventionally, network trafﬁc is secured by mechanisms such as au-\\nthentication, data encryption, and message integrity techniques. However, these methods\\ncannot completely protect the entire levels of an ICS network against a wide range of\\nmalicious activities. Figure 1 illustrates the ﬁve distinct levels of an ICS architecture. These\\nconventional mechanisms try to secure the network trafﬁc transmitting between ICS levels\\nand do not investigate the compatibility of the physical plant measurements. This makes\\nElectronics 2021 ,10, 407. https://doi.org/10.3390/electronics10040407 https://www.mdpi.com/journal/electronics', metadata={'source': '/Users/sotaaraki/ResearchSummarizer/data/electronics-10-00407-v2.pdf', 'page': 0}),\n",
       " Document(page_content='Electronics 2021 ,10, 407 2 of 13\\nthe system vulnerable against malicious activities such as insider sabotages, spooﬁng, and\\nstealthy attacks [ 7]. One solution to tackle this problem is the intrusion detection system\\n(IDS). The two main IDS strategies are signature-based and anomaly-based, which differ\\nin their detection mechanisms [ 8]. The signature-based strategy trains the system to ﬁnd\\nspeciﬁc anomalies while the anomaly-based strategy searches for any deviation from a\\npre-known normal activity. Generally, IDS investigates the network trafﬁc in an ICS and\\ntries to detect abnormal activities in the transmitting data packets. This strategy, known as\\nthe network intrusion detection system (NIDS), monitors the incoming data packets and\\nprevents suspicious data from intruding into the system. Many studies leveraged machine\\nlearning algorithms to train a NIDS model, which is responsible for detecting attacks in the\\nnetwork trafﬁc [ 9–11]. Although the NIDS effectively qualiﬁes and quantiﬁes attacks by\\nanalyzing the amount and types of attacks in the network ﬂow, its performance against\\nencrypted data packets, faked IP packets, and regular false positive alerts is not guaranteed.\\nFigure 1. ICS network architecture.\\nOn the other hand, the measurement intrusion detection system (MIDS) instead of\\nmonitoring the network trafﬁc, investigates suspicious activities in the system’s measure-\\nment data. As shown in Figure 1, the MIDS does not interact with the connections between\\nthe ICS levels, but directly inspect the measurement data in the system. This fault detection\\napproach can ﬁnd any deviation from normal performance caused by malicious activities\\nsuch as changing the sensors setpoints or injecting fake data measurements into the ICS\\nnetwork levels. Since, in an ICS, the SCADA system (Level II) collects the data from the\\nentire system, the MIDS can be embedded in this system’s level. In comparison to the\\nNIDS method, a few studies tried to use machine learning algorithms for training a fault\\ndetection model. Choi et al. [ 12] presented an IDS based on voltage measurement data to\\ndetect in-vehicle controller area network (CAN) intrusions using inimitable characteristics\\nof electrical signals. Their approach is well designed to detect bus-off attacks [ 13] and per-\\nforms very well to secure an in-vehicle CAN. However, relying on only one type of variable\\nto detect suspicious activities in the system caused a high rate of false positives in the IDS.\\nIn [14], Pan et al. introduced an IDS strategy leveraging features of signature-based and\\nspeciﬁcation-based detection methods which protects an electrical power transmission line\\nfrom attacks. They used data from relay, network security logs, and energy management\\nsystem (EMS) logs. Their method could accurately distinguish malicious activities from\\nnormal control operations. However, their proposed algorithm requires a large number', metadata={'source': '/Users/sotaaraki/ResearchSummarizer/data/electronics-10-00407-v2.pdf', 'page': 1}),\n",
       " Document(page_content='Electronics 2021 ,10, 407 3 of 13\\nof captured data scenarios, which is difﬁcult to acquire. In another study, Ozay et al. [ 15]\\nproposed an attack detection model employing state vector estimation (SVE) to detect false\\ndata injection at the physical layer of a smart grid. They showed that the model performs\\naccurately on various IEEE test systems in detection of abnormal behaviors; however, it\\ncannot detect the stealthy malicious activities properly.\\nBasically, due to the difﬁculties in generating a labeled dataset, which indicates\\ndifferent types of attacks in an ICS, most studies apply a normal activity dataset for training\\nmachine learning models. Therefore, the MIDS could only compare a set of normal data\\nwith the incoming data and detect any deviation from the normal activity. This strategy\\nwould fail while a stealthy attack that imitates a normal behavior intrudes into the system.\\nA solution to tackle this problem is generating a labeled dataset that includes different\\ntypes of attacks to train a machine learning model that is capable of detecting malicious\\nstealthy activities in the system. But, building a labeled dataset consisting attack scenarios\\nmeans the system should tolerate a set of controlled attack injected to the system, that\\ncould lead to a system failure and irreparable damages. Nevertheless, it is possible to\\nsimulate the critical infrastructures of an ICS using a hardware-in-the-loop (HIL) to prevent\\ndamaging the system. This approach could be sensible while the ICS is a vital infrastructure,\\nand the system’s security is dramatically signiﬁcant [ 16]. The main goal of this paper is\\nto investigate the performance of the MIDS by training machine learning algorithms\\nleveraging a labeled dataset. To this end, we develop an experimental setup in which we\\ncan evaluate the effectiveness of fault detection by monitoring the measurement data in an\\nICS. For this, we employ a power generation testbed whose sensors’ values are measured\\nover several days. Different scenarios of attacks are injected into the system to generate the\\nlabeled dataset. The dataset was generated in 2020, available at [ 17]. Overall, this work has\\nmade the following contributions to the attack detection domain:\\n(1) Introducing a novel approach which can be integrated to NIDS as a second layer\\nof defense mechanism for intrusion detection using measurement data and improving the\\nsecurity of the ICS system.\\n(2) Applying the HIL-based augmented ICS (HAI) testbed dataset [ 18] for the ﬁrst time\\nfor training a supervised machine learning model to detect intrusions in an ICS. Unlike the\\nprevious works [ 12–15], our proposed design is able to detect the stealthy attacks without\\nimposing any threat to the actual system using the advantages of labeled data obtained\\nfrom the HIL testbed.\\n(3) Using the measurement data in the all levels of ICS (Figure 1), which can help to\\ndetect not only the sabotages in the communication links between the levels but also the\\ninsider sabotages in each level. This particular feature would help to improve the security\\nof the system without any conﬂict with NIDS.\\nIn addition, we compared different machine learning techniques to ﬁnd the best\\nlearning model for the detection of stealthy attacks in the ICSs. According to the results,\\nthe random forest algorithm [19] has the best performance for the proposed dataset.\\nProblem Description and Motivation\\nICS, including SCADA networks, consists of several parts such as controllers moni-\\ntored by operators through the human–machine interface (HMI). In critical ICS infrastruc-\\ntures such as power plants, the communication network between parts of the system can be\\nextended over large geographical regions, which perform under virtual private networks\\n(VPN) or the Internet. Although connecting the communication network to the Internet or\\nusing remote connections help to have an off-site operation and management of ICS over a', metadata={'source': '/Users/sotaaraki/ResearchSummarizer/data/electronics-10-00407-v2.pdf', 'page': 2}),\n",
       " Document(page_content='(VPN) or the Internet. Although connecting the communication network to the Internet or\\nusing remote connections help to have an off-site operation and management of ICS over a\\nvast geographical distance, it puts the system at risk of malicious attacks [ 20]. The NIDS is\\nwidely employed to detect any kind of abnormal activity in the system’s network ﬂow to\\ndefeat these types of attacks. Nevertheless, while the NIDS could address the problem of\\ncyber attacks at a sensible rate of accuracy, these systems are inefﬁcient in detecting insider\\nattacks or any other sabotage inside the system. Furthermore, the NIDS is incapable of\\ndetecting encrypted or any other faked data packets, especially stealthy attacks. To address', metadata={'source': '/Users/sotaaraki/ResearchSummarizer/data/electronics-10-00407-v2.pdf', 'page': 2}),\n",
       " Document(page_content='Electronics 2021 ,10, 407 4 of 13\\nthese problems, one solution is investigating the behavior of measurement data instead of\\nmonitoring network trafﬁc.\\nThe MIDS is not only capable of detecting any deviation from the normal activity\\nof the ICS, but it is also effective in the detection of stealthy attacks [ 21]. The presence\\nof SCADA systems, especially in large-scale ICSs, helps deploy the MIDS without any\\nadditional devices; however, the main obstacle in practicing the MIDS is preparing a\\ncomprehensive dataset to train a machine learning model. Basically, building an attack\\ndataset for measured data means injecting a malfunction to the system and possibly\\nthe whole system’s failure. This could have dramatically high costs when the system is\\na critical large-scale ICS. Moreover, for each system’s environment, the dataset should\\nbe built separately, and it could be extremely expensive. Fortunately, in recent years,\\ndevelopment in processing units and computation power has helped to overcome this\\nproblem by introducing the HIL technique. This technique stimulates the critical parts of an\\nICS and injects attacks into the system without any threat to the existing system. Tackling\\nthe problem of building a dataset, including real-time attacks, provides a remarkable\\nopportunity for studying the MIDS.\\nIn this study, to investigate the MIDS’s efﬁciency in ICS fault detection, an electrical\\npower generation testbed is employed, which is wholly explained in Section 3. The inves-\\ntigation procedure includes pre-processing the data, ﬁtting supervised learning models,\\nand evaluating each model’s classiﬁcation accuracy. The standard methods of assessing\\nmodels’ effectiveness are the confusion matrix, the area under the curve (AUC), and the\\nreceiver operating characteristics (ROC) curve.\\nThe remainder of the paper is organized as follows. In Section 2, the methodology\\nfor building a machine learning model is described. Section 3 includes a description of\\nthe dataset. The results and discussions of implementing the model on the dataset are\\nproposed in Section 4. Section 5 presents the conclusion and future work directions.\\n2. Methodology\\nThe developed attack detection procedure is described in this section. First, the most\\nsigniﬁcant attacks in the ICSs are introduced; then, the approach to detect these attacks\\nis explained. As shown in Figure 2, after collecting the data, the most relevant features\\nare selected, and a trained ML model based on the corresponding features classiﬁes the\\noutput data.\\nFigure 2. The framework of MIDS in ICS for the HAI dataset.', metadata={'source': '/Users/sotaaraki/ResearchSummarizer/data/electronics-10-00407-v2.pdf', 'page': 3}),\n",
       " Document(page_content='Electronics 2021 ,10, 407 5 of 13\\n2.1. Attack Description\\nAnomaly detection consists of various domains, such as intrusion detection, fault de-\\ntection, and event detection in sensor networks. Any deviation from a normal performance\\ncould be considered an anomaly in an ICS. It could happen due to several reasons, includ-\\ning a malfunction in a system’s component, insider sabotage, or an intentional cyberattack.\\nIn this paper, the concept of anomaly detection based on the MIDS refers to fault detection\\nand intrusion detection. When a malfunction or insider sabotage occurs, the MIDS tries to\\ndetect faults in the system. In addition, when an attacker attempts to intrude in the system,\\nit is known as intrusion detection.\\nAnomaly detection in ICSs using the measured data captured by the SCADA system\\nhas the privilege of detecting any deviation from a normal activity even if the intrusion\\nis not recognized in the network layer by the NIDS. Evidently, due to a deviation from\\nthe system’s normal behavior, detecting a malfunction or a simple attack that directly\\nmanipulates the system’s measurement data would not be a challenging task for the MIDS.\\nOn the other hand, the main concern about the MIDS effectiveness is its performance in\\nthe detection of stealthy attacks. These kinds of attacks occur when an attacker manipu-\\nlates sensor measurements or control signals persistency by penetrating control networks\\nwithout being detected until the system crashes. Normally, attackers attempt to imitate the\\nsystem’s normal behavior to stay undetected. In this paper, not only the MIDS performance\\nin the detection of malfunctions is evaluated, but also a set of stealthy attacks are injected\\ninto the system to investigate the MIDS effectiveness in the detection of this type of attack.\\n2.2. Data Analyzing\\nThe problem of imbalanced datasets in IDS modeling is a critical issue. In machine\\nlearning modeling, particularly in classiﬁcation problems, having access to a balanced\\ndataset in the training stage has a signiﬁcant impact on the model’s performance. In the\\nMIDS, this problem comes from a large number of normal conditions compared to abnormal\\nactivities in the system logs.\\nTo handle the problem of imbalanced datasets, a multitude of techniques are intro-\\nduced, such as the threshold method, one-class learning, or cost-sensitive learning [ 22].\\nIn fact, all balancing methods are based on oversampling or undersampling approaches.\\nBrieﬂy, the undersampling method tries to decrease the number of instances from the ma-\\njority class; on the other hand, the oversampling method attempts to increase the number\\nof samples of the minority class. While undersampling has the risk of losing important\\ndata, oversampling puts the model at the stake of overﬁtting.\\nOne solution to tackle this problem is the Synthetic Minority Over-sampling Technique\\n(SMOTE) method [ 23]. The SMOTE is a random oversampling approach that generates new\\ninstances using existing data from the rare classes. For this, any point from the minority\\nclass that smoothly moves an existing sample around its neighbors will be added to the\\ndataset until the dataset reaches a balanced condition. Therefore, this method by generating\\nnew samples (which are not exactly the same as the existing samples) makes it possible\\nto avoid the risk of overﬁtting problems [ 24]. In this paper, due to the imbalance in the\\nlabeled data, the SMOTE method is employed to normalize the dataset targeted data.\\nMoreover, the balanced dataset helps the normal and abnormal data be split equally during\\nthe procedure of building the train and test datasets. In this paper, the Stratiﬁed Shufﬂe\\nSplit (SSS) method is applied to divide the train and test data. The test data include 0.3 of\\nthe entire dataset, and the number of re-shufﬂing and splitting iterations is considered as 5.\\n2.3. Feature Engineering\\nIn the MIDS, features are basically the measured data collected by the SCADA system', metadata={'source': '/Users/sotaaraki/ResearchSummarizer/data/electronics-10-00407-v2.pdf', 'page': 4}),\n",
       " Document(page_content='2.3. Feature Engineering\\nIn the MIDS, features are basically the measured data collected by the SCADA system\\nfrom embedded sensors. In large-scale ICSs, the quantity of sensors is normally a large\\nnumber. This mentions two facts. First, in the proposed problem, the feature selection\\nmethod plays a signiﬁcant role in the performance of the model; second, due to a large\\namount of measured data, the model algorithm should be capable of fast prediction to be', metadata={'source': '/Users/sotaaraki/ResearchSummarizer/data/electronics-10-00407-v2.pdf', 'page': 4}),\n",
       " Document(page_content='Electronics 2021 ,10, 407 6 of 13\\nusable in real-time applications. The goal of feature selection is to ﬁnd the most effective\\nfeatures that lead to training more accurate models and less computation time. Feature\\nselection techniques can be classiﬁed as ﬁlter, wrapper, embedded, and hybrid methods [ 25].\\nIn the ﬁlter method, correlation criteria are employed widely in machine learning problems.\\nCorrelation is a measure of the linear relationship between two or more parameters. In\\nfeature selection, the most correlated features with the target would be chosen to build\\nthe model. Moreover, those features should not show a high correlation with each other\\nto avoid using redundant data. Pearson correlation technique is one of the most useful\\ncriteria in feature selection, which can be described as\\nCorr (i) =cov(ai,b)√\\nvar(ai)∗var(b)(1)\\nwhere aiis the ith feature, bis the target label, and cov()andvar()represent the covariance\\nand the variance functions, respectively. Corr (i)also indicates the Pearson correlation tech-\\nnique, which shows the correlation between the ith feature and the corresponding target.\\nTo select the features with a high correlation with the target, we need to set a threshold\\nvalue for choosing the features with a higher correlation. Suppose that the selected features\\nare correlated to each other. In that case, we can drop the one with the lowest correlation to\\nthe target. In addition, the features that show a high correlation together can be uniﬁed.\\nTo do so, the correlation of the features, two by two, are calculated, and the most correlated\\nfeatures are nominated for removal.\\nMoreover, in the pre-processing step, the input data should be scaled. This could\\nresult in a sustainable learning process. In this paper, the MinMaxScaler is employed to\\nscale the features values. Equation (2) describes this function, where am\\niis the ith feature\\nfrom mth experiment, aminand amaxare the minimum and the maximum values of the\\nfeature among the experiments, respectively. In addition, am\\ni(scaled )indicates the scaled value\\nfor the ith feature of mth experiment.\\nam\\ni(scaled )=(am\\ni−amin)\\n(amax−amin)(2)\\n2.4. Machine Learning Models\\nSupervised anomaly detection in ICS generally uses normal activity data to build a\\npredictive model of normal class as well as anomaly class. Then, any unforeseen data are\\ncompared with the generated model to detect its class. Several algorithms are applied\\nin this study to train a machine learning model for detecting anomalies by the MIDS.\\nHaving access to a labeled dataset allows for applying supervised learning strategies by\\nconsidering two classes of attack and normal activities. In this study, the most accurate\\nsupervised learning algorithms are chosen that are k-nearest neighbors (KNN), decision\\ntree classiﬁer (DTC), and random forest (RF).\\n• The KNN algorithm uses data to classify unforeseen data points by measuring the\\ndistances from the neighbor points. This classiﬁcation method classiﬁes new data by\\nthe plurality vote of its kneighbors which are assigned to the most similar class.\\n• The decision tree classiﬁer uses a tree-like model of decisions and their possible\\noutcomes. Normally, a decision tree classiﬁer is used for discrete categorical tar-\\ngets, which, in this paper, the target is a binary variable that includes attack and\\nnormal situations.\\n• The random forest algorithm is a combination of tree classiﬁers. This classiﬁer tries to\\nmaximize the variance by injecting randomness in data selection and to minimize the\\nbias by increasing the tree depth to a maximum level.', metadata={'source': '/Users/sotaaraki/ResearchSummarizer/data/electronics-10-00407-v2.pdf', 'page': 5}),\n",
       " Document(page_content='Electronics 2021 ,10, 407 7 of 13\\n2.5. Model Evaluation Metrics\\nThe performance of algorithms in detecting anomalies in ICSs based on supervised\\nlearning is investigated by the following metrics.\\n• Confusion matrix: This measure is used to evaluate a classiﬁer’s performance consid-\\nering a pre-known set of labeled data. For each classiﬁer, a confusion matrix would\\nbe generated. In addition, sensitivity, speciﬁcity, precision, and F1-score metrics are\\ncalculated regarding this matrix. The sensitivity or recall metric shows the likelihood\\nof predicting true positive, while the speciﬁcity measures the true negative rate. In ad-\\ndition, the precision metric represents the accuracy of the positively predicted classes,\\nwhich are actually positive. The F1-Score shows the balance between sensitivity and\\nprecision. Finally, the accuracy of the model is measured by evaluating the trueness of\\nthe results. Figure 3 explains a confusion matrix and its associated metrics.\\n• Receiver operator characteristic (ROC) curve and area under the curve (AUC). The\\nROC is a graph that illustrates the performance of the classiﬁcation algorithm at all\\nclassiﬁcation thresholds and includes two parameters: true-positive and false-positive\\nrates. The ROC compares the classiﬁers’ performance among the whole range of class\\ndistributions and error costs. To compare the ROC curves, the area under the ROC\\ncurve is calculated, called the area under the curve (AUC) metric. More values of\\nAUC implies more accuracy in the model prediction [26].\\nFigure 3. Explanation of confusion matrix. ACC and MMC are accuracy and Matthew’s correlation\\ncoefﬁcient, respectively [27,28].\\n3. Experimental Setup\\n3.1. ICS Testbed\\nPerformance of anomaly detection in ICSs based on sensors measurement data is\\nevaluated by implementing machine learning models on a dataset from a power gener-\\nation system [ 18]. As shown in Figure 4, the testbed system has four primary processes,\\nincluding a turbine process, a water-treatment process, a boiler process, and a HIL sim-\\nulator. In the procedure of building the attack dataset, to protect the system from harm-\\nful damages of attacks, the HIL simulates the thermal power and the pumped-storage\\nhydropower generators.\\nThe boiler process, including four controllers (level controller, pressure controller,\\ntemperature controller, ﬂow-rate controller), is responsible for heating the pumped water\\nfrom the main water tank. The turbine process consists of a motor speed controller that\\nrotates a turbine. The water-treatment process has a level controller that manages the level\\ncontrol pump (LCP) and the level control valve (LCV) and is in charge of transferring water', metadata={'source': '/Users/sotaaraki/ResearchSummarizer/data/electronics-10-00407-v2.pdf', 'page': 6}),\n",
       " Document(page_content='Electronics 2021 ,10, 407 8 of 13\\nfrom the upper to the lower reservoir and vice versa. The HIL simulator includes two\\ngenerators and a power grid model that feeds an electrical load.\\nFigure 4. HIL-based augmented ICS.\\n3.2. Dataset\\nThe dataset used in this paper is from a HIL-based augmented ICS security (HAI)\\navailable at [ 17]. The testbed dataset is built by collecting measurements of 59 sensors\\nevery second through four days. During these four days, 28 attacks are injected into the\\nsystem. These attacks are a combination of 14 process control loop (PCL) primitive attacks\\nwhich are affecting four points in the system: setpoints, process variables, control output,\\nand control parameters. The attacks are stealthy type and cannot be detected easily by the\\nconventional NIDS.\\nThe next section is devoted to the implementation of supervised machine learning\\nalgorithms on the proposed dataset. The following section illustrates the MIDS performance\\non fault detection, especially stealthy attacks.\\n4. Results and Discussion\\nThe proposed MIDS method based on a machine learning approach is tested on the\\nHAI dataset, and its performance in anomaly detection is evaluated. The machine learning\\nalgorithms are trained and tested by employing Python. The procedure of generating the\\nmodel is shown in Figure 2. In this paper, several classiﬁcation algorithms were examined,\\nand the most accurate ones were selected to be implemented on the MIDS model.\\nDue to the large number of measuring points in the dataset, the most important\\nfeatures are selected by employing a correlation metric. The feature selection process\\ncontains two steps. First, the most correlated features are identiﬁed and uniﬁed. In this\\nstep, from 59 features, 41 are selected. Then, among the residue features, the ones showing\\nthe most correlation with the target values are chosen, leading to 17 remaining features.\\nFigure 5 shows the correlation matrices during the feature selection process. It should\\nbe mentioned that Figure 5b is the correlation matrix after removing the most correlated\\nfeatures together, and Figure 5c is the correlation matrix after removing the least correlated\\nfeature with the target.\\nMostly, in the intrusion detection problems, the training datasets are suffering from\\nimbalance targeted data. This is because of the much lower duration of attack activities\\ncompared to the normal conditions. In the testbed dataset, less than 4% of the whole data\\nare associated with abnormal activities. This imbalance of data could affect the performance\\nevaluation of the trained models. The SMOTE method is employed to tackle this problem.\\nThis method helps to balance the dataset without a high risk of overﬁtting. Figure 6 shows\\nthe target distribution in the dataset before and after normalizing.', metadata={'source': '/Users/sotaaraki/ResearchSummarizer/data/electronics-10-00407-v2.pdf', 'page': 7}),\n",
       " Document(page_content='Electronics 2021 ,10, 407 9 of 13\\n(a) Features correlation before feature selection.\\n(b) Features correlation after feature selection. Features with a\\ncorrelation of more than 0.85 are united.\\n(c) Features correlation after feature selection. Features with a\\ncorrelation of more than 0.95 with the target are united.\\nFigure 5. Feature selection using a correlation metric.\\n(a) Before performing normalization.\\n(b) After performing normalization (SMOTE method).\\nFigure 6. Normal and abnormal conditions’ distribution.', metadata={'source': '/Users/sotaaraki/ResearchSummarizer/data/electronics-10-00407-v2.pdf', 'page': 8}),\n",
       " Document(page_content='Electronics 2021 ,10, 407 10 of 13\\nIt should be considered that the sensors’ measurements in an ICS have a wide range\\nof values. The unscaled data could cause signiﬁcant problems during the model training\\nprocedure, and lead to an unsustainable learning process. Therefore, the MinMaxScaler\\nfunction explained in Section 3 is used to scale the measurement data in an appropri-\\nate range.\\nAfter the pre-processing step, the dataset is ready to train a machine learning model.\\nIn this study, the supervised classiﬁcation models that are implemented on the dataset are\\nk-nearest neighbor (KNN), random forest (RF), and decision tree classiﬁer (DTC). These\\nalgorithms are chosen based on their effectiveness on this particular problem. Two major\\nfactors are considered in the evaluation of the algorithms’ performances. First, the accuracy\\nin classifying the targeted output. Second, the required time for ﬁtting and predicting\\nprocesses. For the ﬁrst factor, the confusion matrix is computed (Figure 7), and regarding\\nthis matrix, other metrics such as accuracy, precision, F1-score, speciﬁcity, and sensitivity\\nare calculated. More information related to the confusion matrix concept and its metrics is\\navailable at [ 29]. For the second factor, the computation time for ﬁtting the training dataset\\nand predicting the test dataset is captured. Table 1 shows the confusion matrices along\\nwith the computation times for the selected algorithms.\\n(a) Confusion matrix for the KNN algorithm.\\n (b) Confusion matrix for the decision tree algorithm.\\n(c) Confusion matrix for the random forest algorithm.\\nFigure 7. Confusion matrices.', metadata={'source': '/Users/sotaaraki/ResearchSummarizer/data/electronics-10-00407-v2.pdf', 'page': 9}),\n",
       " Document(page_content='Electronics 2021 ,10, 407 11 of 13\\nTable 1. Models’ performance comparison.\\nKNN DTC RF\\nPrecision 0.9732 0.9937 0.9976\\nRecall 0.9729 0.9937 0.9976\\nF1-score 0.9729 0.9937 0.9976\\nAccuracy 0.9729 0.9937 0.9976\\nAUC 0.9729 0.9937 0.9976\\nFitting time [s] 173 5.8 2.21\\nPrediction time [s] 104 0.0283 0.0505\\nThe random forest algorithm has the best performance in detecting the anomalies in\\nthe dataset. This algorithm consumes the least time for generating the model, while the\\ndecision tree classiﬁer has the lowest prediction computing time. This mentions that a\\ntrade-off between accuracy and prediction time should be considered for a real-life problem.\\nMoreover, the KNN algorithm shows a lower accuracy in predicting the anomalies and\\nrequires a longer time for ﬁtting and predicting processes. The result implies that the MIDS\\ncan be a reliable solution for the anomaly detection problem. Applying measurement\\ndata from the SCADA system to detect attacks could be considered a protection layer in\\nICSs. While the NIDS can protect the network trafﬁc from malicious intrusions, the MIDS\\ncould improve the system’s reliability as the second layer of protection, especially against\\nstealthy attacks.\\nUsually, stealthy attacks that intrude into the ﬁeld level (level 0) of an ICS attempt\\nto conceal the state changes by imitating a normal behavior and deceiving the protection\\nsystems. Usually, building a dataset that includes stealthy attacks is a complicated process.\\nFor the ﬁrst time, by leveraging HIL systems, a real-life dataset containing stealthy attacks\\non sensor data measurements is provided. This dataset consists of actual data during\\nintrusion attacks that manipulate the control parameters.\\nThe ROC curve illustrated in Figure 8 indicates that the random forest algorithm has a\\nremarkable performance in detecting anomalies. This ﬁgure compares the three applied\\nalgorithms’ accuracy using the AUC of the ROC curves. The diagonal dashed line from\\nthe bottom left to the top right corner of Figure 8a represents a non-discriminatory test\\npoints where sensitivity = 1-speciﬁcity. As shown in Figure 8b, the random forest algorithm\\nperforms far better than the KNN and the DTC algorithms by an AUC of 1.\\n(a) ROC curves.\\n(b) ROC curves from a closer view.\\nFigure 8. ROC curves for KNN, random forest, and decision tree classiﬁers.\\n5. Conclusions\\nIn this paper, the classiﬁcation performance of the measurement intrusion detection\\nsystem is investigated and a remarkable outcome is concluded, especially on stealthy\\nattacks. The MIDS is working based on the measured data that the SCADA system collects\\nfrom the ICS sensors. IDSs are mostly investigating network trafﬁc to ﬁnd malicious activi-', metadata={'source': '/Users/sotaaraki/ResearchSummarizer/data/electronics-10-00407-v2.pdf', 'page': 10}),\n",
       " Document(page_content='Electronics 2021 ,10, 407 12 of 13\\nties in the system, and stealthy attacks are hard to be detected by these strategies. Because\\nthe MIDS is investigating the measurement data, it could detect deceptive behaviors in\\nthe system better than the NIDS. The HAI dataset, including actual data from a power\\ngeneration system, is applied to evaluate the MIDS performance in fault detection. The\\nresults show a very successful classiﬁcation employing the random forest algorithm in the\\nfault detection process with an accuracy of 99.76%.\\nNevertheless, although the MIDS can greatly detect anomalies, especially stealthy\\nattacks, it cannot prevent malicious intrusions in the layer of network trafﬁc. Indeed, the\\nMIDS could detect anomalies when they successfully deceive the NIDS by imitating a\\nnormal behavior in the system. Therefore, the MIDS cannot be a substitution of the NIDS;\\nhowever, it can be embedded as the second layer of protection in the critical infrastructure\\nof ICSs. By combining these two protection layers, if any malfunction in the system,\\nincluding insider’s sabotage, systems failure, stealthy attack, or network intrusion happens,\\nthe IDS could be sufﬁcient in detecting it successfully.\\nMoreover, this study leverages the supervised learning approach to build a machine\\nlearning model. The unsupervised learning methods are also a topic of interest for our\\nfuture works; however, their efﬁciencies in comparison with supervised learning models\\nshould be investigated. In the future, we would like to investigate unsupervised learning\\nalgorithms due to the fact that they don’t require labeled data for the model training step,\\nwhich leads to detecting new anomalies in the system.\\nAuthor Contributions: S.M. prepared an initial draft and overall structure of this research paper for\\nanomaly detection in industrial control based on measurement data and invited other authors to\\ncontribute and expand the research scope. A.A. and A.S. were involved in data analysing and model\\ngeneration of MIDS. K.K.Y. supervised the research and co-wrote the paper. All authors have read\\nand agreed to the published version of the manuscript.\\nFunding: Partial support of this research was provided by Tennessee Technological University\\nand the National Science Foundation under Grant No. CNS-1919855. Any opinions, ﬁndings, and\\nconclusions, or recommendations expressed in this material are those of the author(s) and do not\\nnecessarily reﬂect the views of the sponsoring agency.\\nData Availability Statement: The data that used in this study are openly available on kaggle web-\\nsite at https://www.kaggle.com/icsdataset/hai-security-dataset (accessed on 20 December 2020),\\nentitled HAI Security Dataset V . 4, created by Hyeok-Ki Shin, Woomyo Lee, Jeong-Han Yun and\\nHyoungChun Kim in the Afﬁliated Institute of ETRI, Daejeon, South Korea, licence CC BY-SA 4.0.\\navialable at https://creativecommons.org/licenses/by/4.0/ (accessed on 7 February 2021).\\nConﬂicts of Interest: The authors declare no conﬂict of interest.\\nReferences\\n1. Paridari, K.; O’Mahony, N.; Mady, A.E.D.; Chabukswar, R.; Boubekeur, M.; Sandberg, H. A framework for attack-resilient\\nindustrial control systems: Attack detection and controller reconﬁguration. Proc. IEEE 2017 ,106, 113–128. [CrossRef]\\n2. Arafat, M.; Iqbal, S.; Hadi, M. Utilizing an Analytical Hierarchy Process with Stochastic Return on Investment to Justify Connected\\nVehicle-Based Deployment Decisions. Transp. Res. Rec. 2020 ,2674 , 462–472. [CrossRef]\\n3. Abbaspour, A.; Mokhtari, S.; Sargolzaei, A.; Yen, K.K. A Survey on Active Fault-Tolerant Control Systems. Electronics 2020 ,\\n9, 1513. [CrossRef]\\n4. Mokhtari, S.; Yen, K.K. A Novel Bilateral Fuzzy Adaptive Unscented Kalman Filter and its Implementation to Nonlinear\\nSystems with Additive Noise. In Proceedings of the 2020 IEEE Industry Applications Society Annual Meeting, Detroit, MI, USA,\\n10–16 October 2020; pp. 1–6.', metadata={'source': '/Users/sotaaraki/ResearchSummarizer/data/electronics-10-00407-v2.pdf', 'page': 11}),\n",
       " Document(page_content='Systems with Additive Noise. In Proceedings of the 2020 IEEE Industry Applications Society Annual Meeting, Detroit, MI, USA,\\n10–16 October 2020; pp. 1–6.\\n5. Fawzy, N.; Habib, H.F.; Mohammed, O.; Brahma, S. Protection of Microgrids with Distributed Generation based on Multiagent\\nSystem. In Proceedings of the 2020 IEEE International Conference on Environment and Electrical Engineering and 2020 IEEE\\nIndustrial and Commercial Power Systems Europe (EEEIC/I& CPS Europe), Madrid, Spain, 9–12 June 2020; pp. 1–5.\\n6. Habib, H.F.; Fawzy, N.; Esfahani, M.M.; Mohammed, O.A. Enhancement of protection scheme for distribution system using the\\ncommunication network. In Proceedings of the 2019 IEEE Industry Applications Society Annual Meeting, Baltimore, MD, USA,\\n29 September–3 October 2019; pp. 1–7.\\n7. Slay, J.; Miller, M. Lessons learned from the maroochy water breach. In Proceedings of the International Conference on Critical\\nInfrastructure Protection, Hanover, NH, USA, 19–21 March 2007; Springer: Berlin/Heidelberg, Germany, 2007; pp. 73–82.', metadata={'source': '/Users/sotaaraki/ResearchSummarizer/data/electronics-10-00407-v2.pdf', 'page': 11}),\n",
       " Document(page_content='Electronics 2021 ,10, 407 13 of 13\\n8. Wang, Y.; Meng, W.; Li, W.; Li, J.; Liu, W.X.; Xiang, Y. A fog-based privacy-preserving approach for distributed signature-based\\nintrusion detection. J. Parallel Distrib. Comput. 2018 ,122, 26–35. [CrossRef]\\n9. Aloqaily, M.; Otoum, S.; Al Ridhawi, I.; Jararweh, Y. An intrusion detection system for connected vehicles in smart cities. Ad Hoc\\nNetw. 2019 ,90, 101842. [CrossRef]\\n10. Vinayakumar, R.; Alazab, M.; Soman, K.; Poornachandran, P .; Al-Nemrat, A.; Venkatraman, S. Deep learning approach for\\nintelligent intrusion detection system. IEEE Access 2019 ,7, 41525–41550. [CrossRef]\\n11. Manzoor, I.; Kumar, N. A feature reduced intrusion detection system using ANN classiﬁer. Expert Syst. Appl. 2017 ,88, 249–257.\\n12. Choi, W.; Joo, K.; Jo, H.J.; Park, M.C.; Lee, D.H. Voltageids: Low-level communication characteristics for automotive intrusion\\ndetection system. IEEE Trans. Inf. Forensics Secur. 2018 ,13, 2114–2129. [CrossRef]\\n13. Cho, K.T.; Shin, K.G. Error handling of in-vehicle networks makes them vulnerable. In Proceedings of the 2016 ACM SIGSAC\\nConference on Computer and Communications Security, Vienna, Austria, 24–28 October 2016; pp. 1044–1055.\\n14. Pan, S.; Morris, T.; Adhikari, U. Developing a hybrid intrusion detection system using data mining for power systems. IEEE\\nTrans. Smart Grid 2015 ,6, 3104–3113. [CrossRef]\\n15. Ozay, M.; Esnaola, I.; Vural, F.T.Y.; Kulkarni, S.R.; Poor, H.V . Machine learning methods for attack detection in the smart grid.\\nIEEE Trans. Neural Netw. Learn. Syst. 2015 ,27, 1773–1786. [CrossRef] [PubMed]\\n16. Habib, H.F.; Fawzy, N.; Brahma, S. Hardware in the Loop of a Protection Scheme for Microgrid using RTDS with IEC 61850\\nCommunication Protocol. In Proceedings of the 2020 IEEE Industry Applications Society Annual Meeting, Detroit, MI, USA,\\n13–15 October 2020; pp. 1–6.\\n17. Choi, S. HIL-Based Augmented ICS (HAI) Security Dataset. 2020. Available online: https://github.com/icsdataset/hai\\n(accessed on 20 December 2020).\\n18. Shin, H.K.; Lee, W.; Yun, J.H.; Kim, H. HAI 1.0: HIL-based Augmented ICS Security Dataset. In Proceedings of the 13th USENIX\\nWorkshop on Cyber Security Experimentation and Test (CSET 20), Boston, MA, USA, 10 August 2020.\\n19. Biau, G.; Scornet, E. A random forest guided tour. Test2016 ,25, 197–227. [CrossRef]\\n20. Van der Knijff, R.M. Control systems/SCADA forensics, what’s the difference? Digit. Investig. 2014 ,11, 160–174. [CrossRef]\\n21. Urbina, D.I.; Giraldo, J.A.; Cardenas, A.A.; Tippenhauer, N.O.; Valente, J.; Faisal, M.; Ruths, J.; Candell, R.; Sandberg, H. Limiting\\nthe impact of stealthy attacks on industrial control systems. In Proceedings of the 2016 ACM SIGSAC Conference on Computer\\nand Communications Security, Vienna, Austria, 24–28 October 2016; pp. 1092–1105.\\n22. Kotsiantis, S.; Kanellopoulos, D.; Pintelas, P . Handling imbalanced datasets: A review. GESTS Int. Trans. Comput. Sci. Eng. 2006 ,\\n30, 25–36.\\n23. Chawla, N.V .; Bowyer, K.W.; Hall, L.O.; Kegelmeyer, W.P . SMOTE: Synthetic minority over-sampling technique. J. Artif. Intell.\\nRes. 2002 ,16, 321–357. [CrossRef]\\n24. Zolanvari, M.; Teixeira, M.A.; Jain, R. Effect of imbalanced datasets on security of industrial IoT using machine learning.\\nIn Proceedings of the 2018 IEEE International Conference on Intelligence and Security Informatics (ISI), Miami, FL, USA,\\n9–11 November 2018; pp. 112–117.\\n25. Chandrashekar, G.; Sahin, F. A survey on feature selection methods. Comput. Electr. Eng. 2014 ,40, 16–28. [CrossRef]\\n26. Marzban, C. The ROC curve and the area under it as performance measures. Weather Forecast. 2004 ,19, 1106–1114. [CrossRef]\\n27. Matthews, B.W. Comparison of the predicted and observed secondary structure of T4 phage lysozyme. Biochim. Biophys. Acta\\nBBA Protein Struct. 1975 ,405, 442–451. [CrossRef]\\n28. Xia, B.; Zhang, H.; Li, Q.; Li, T. PETs: A stable and accurate predictor of protein-protein interacting sites based on extremely-', metadata={'source': '/Users/sotaaraki/ResearchSummarizer/data/electronics-10-00407-v2.pdf', 'page': 12}),\n",
       " Document(page_content='BBA Protein Struct. 1975 ,405, 442–451. [CrossRef]\\n28. Xia, B.; Zhang, H.; Li, Q.; Li, T. PETs: A stable and accurate predictor of protein-protein interacting sites based on extremely-\\nrandomized trees. IEEE Trans. Nanobiosci. 2015 ,14, 882–893. [CrossRef] [PubMed]\\n29. Ting, K.M. Confusion Matrix. In Encyclopedia of Machine Learning and Data Mining ; Sammut, C., Webb, G.I., Eds.; Springer: Boston,\\nMA, USA, 2017; p. 260. [CrossRef]', metadata={'source': '/Users/sotaaraki/ResearchSummarizer/data/electronics-10-00407-v2.pdf', 'page': 12})]"
      ]
     },
     "execution_count": 3,
     "metadata": {},
     "output_type": "execute_result"
    }
   ],
   "source": [
    "pages"
   ]
  },
  {
   "cell_type": "code",
   "execution_count": 6,
   "metadata": {},
   "outputs": [],
   "source": [
    "os.environ[\"OPENAI_API_KEY\"] = 'API_KEY'"
   ]
  },
  {
   "cell_type": "code",
   "execution_count": 7,
   "metadata": {},
   "outputs": [
    {
     "name": "stdout",
     "output_type": "stream",
     "text": [
      "12: Electronics 2021 ,10, 407 13 of 13\n",
      "8. Wang, Y.; Meng, W.; Li, W.; Li, J.; Liu, W.X.; Xiang, Y. A fog-based privacy-preserving approach for distributed signature-based\n",
      "intrusion detection. J. Parallel Distrib. Comput. 2018 ,122, 26–35. [CrossRef]\n",
      "9. Aloqaily, M.; Otoum, S.; Al Ridhawi, I.; Jararweh, Y. An intrusion detection system for connected vehicles in smart cities. Ad Hoc\n",
      "Netw. 2019 ,90, 101842. [CrossRef]\n",
      "10. Vinayakumar, R.; Alazab, M.; Soman, K.; Poornachandran, P .; Al-Nemrat, A.; Venkatraman, S. Deep learning approach for\n",
      "intelligent intrusion detection system. IEEE Access 2019 ,7, 41525–41550. [CrossRef]\n",
      "11. Manzoor, I.; Kumar, N. A feature reduced intrusion detection system using ANN classiﬁer. Expert Syst. Appl. 2017 ,88, 249–257.\n",
      "12. Choi, W.; Joo, K.; Jo, H.J.; Park, M.C.; Lee, D.H. Voltageids: Low-level communication characteristics for automotive intrusion\n",
      "detection system. IEEE Trans. Inf. Forensics Secur. 2018 ,13, 2114–2129. [CrossRef]\n",
      "13. Cho, K.T.; Shin, K.G. Error handling of in-vehicle networks makes them vulnerable. In Proceedings of the 2016 ACM SIGSAC\n",
      "Conference on Computer and Communications Security, Vienna, Austria, 24–28 October 2016; pp. 1044–1055.\n",
      "14. Pan, S.; Morris, T.; Adhikari, U. Developing a hybrid intrusion detection system using data mining for power systems. IEEE\n",
      "Trans. Smart Grid 2015 ,6, 3104–3113. [CrossRef]\n",
      "15. Ozay, M.; Esnaola, I.; Vural, F.T.Y.; Kulkarni, S.R.; Poor, H.V . Machine learning methods for attack detection in the smart grid.\n",
      "IEEE Trans. Neural Netw. Learn. Syst. 2015 ,27, 1773–1786. [CrossRef] [PubMed]\n",
      "16. Habib, H.F.; Fawzy, N.; Brahma, S. Hardware in the Loop of a Protection Scheme for Microgrid using RTDS with IEC 61850\n",
      "Communication Protocol. In Proceedings of the 2020 IEEE Industry Applications Society Annual Meeting, Detroit, MI, USA,\n",
      "13–15 October 2020; pp. 1–6.\n",
      "17. Choi, S. HIL-Based Augmented ICS (HAI) Security Dataset. 2020. Available online: https://github.com/icsdataset/hai\n",
      "(accessed on 20 December 2020).\n",
      "18. Shin, H.K.; Lee, W.; Yun, J.H.; Kim, H. HAI 1.0: HIL-based Augmented ICS Security Dataset. In Proceedings of the 13th USENIX\n",
      "Workshop on Cyber Security Experimentation and Test (CSET 20), Boston, MA, USA, 10 August 2020.\n",
      "19. Biau, G.; Scornet, E. A random forest guided tour. Test2016 ,25, 197–227. [CrossRef]\n",
      "20. Van der Knijff, R.M. Control systems/SCADA forensics, what’s the difference? Digit. Investig. 2014 ,11, 160–174. [CrossRef]\n",
      "21. Urbina, D.I.; Giraldo, J.A.; Cardenas, A.A.; Tippenhauer, N.O.; Valente, J.; Faisal, M.; Ruths, J.; Candell, R.; Sandberg, H. Limiting\n",
      "the impact of stealthy attacks on industrial control systems. In Proceedings of the 2016 ACM SIGSAC Conference on Computer\n",
      "and Communications Security, Vienna, Austria, 24–28 October 2016; pp. 1092–1105.\n",
      "22. Kotsiantis, S.; Kanellopoulos, D.; Pintelas, P . Handling imbalanced datasets: A review. GESTS Int. Trans. Comput. Sci. Eng. 2006 ,\n",
      "30, 25–36.\n",
      "23. Chawla, N.V .; Bowyer, K.W.; Hall, L.O.; Kegelmeyer, W.P . SMOTE: Synthetic minority over-sampling technique. J. Artif. Intell.\n",
      "Res. 2002 ,16, 321–357. [CrossRef]\n",
      "24. Zolanvari, M.; Teixeira, M.A.; Jain, R. Effect of imbalanced datasets on security of industrial IoT using machine learning.\n",
      "In Proceedings of the 2018 IEEE International Conference on Intelligence and Security Informatics (ISI), Miami, FL, USA,\n",
      "9–11 November 2018; pp. 112–117.\n",
      "25. Chandrashekar, G.; Sahin, F. A survey on feature selection methods. Comput. Electr. Eng. 2014 ,40, 16–28. [CrossRef]\n",
      "26. Marzban, C. The ROC curve and the area under it as performance measures. Weather Forecast. 2004 ,19, 1106–1114. [CrossRef]\n",
      "27. Matthews, B.W. Comparison of the predicted and observed secondary structure of T4 phage lysozyme. Biochim. Biophys. Acta\n",
      "BBA Protein Struct. 1975 ,405, 442–451. [CrossRef]\n",
      "28. Xia, B.; Zhang, H.; Li, Q.; Li, T. PETs: A stable and accurate predictor of protein-protein interacting sites based on extremely-\n",
      "11: Systems with Additive Noise. In Proceedings of the 2020 IEEE Industry Applications Society Annual Meeting, Detroit, MI, USA,\n",
      "10–16 October 2020; pp. 1–6.\n",
      "5. Fawzy, N.; Habib, H.F.; Mohammed, O.; Brahma, S. Protection of Microgrids with Distributed Generation based on Multiagent\n",
      "System. In Proceedings of the 2020 IEEE International Conference on Environment and Electrical Engineering and 2020 IEEE\n",
      "Industrial and Commercial Power Systems Europe (EEEIC/I& CPS Europe), Madrid, Spain, 9–12 June 2020; pp. 1–5.\n",
      "6. Habib, H.F.; Fawzy, N.; Esfahani, M.M.; Mohammed, O.A. Enhancement of protection scheme for distribution system using the\n",
      "communication network. In Proceedings of the 2019 IEEE Industry Applications Society Annual Meeting, Baltimore, MD, USA,\n",
      "29 September–3 October 2019; pp. 1–7.\n",
      "7. Slay, J.; Miller, M. Lessons learned from the maroochy water breach. In Proceedings of the International Conference on Critical\n",
      "Infrastructure Protection, Hanover, NH, USA, 19–21 March 2007; Springer: Berlin/Heidelberg, Germany, 2007; pp. 73–82.\n"
     ]
    }
   ],
   "source": [
    "chroma_index = Chroma.from_documents(pages, OpenAIEmbeddings())\n",
    "docs = chroma_index.similarity_search(\"論文の概要を教えて\", k=2)\n",
    "for doc in docs:\n",
    "    print(str(doc.metadata[\"page\"]) + \":\", doc.page_content)"
   ]
  },
  {
   "cell_type": "markdown",
   "metadata": {},
   "source": [
    "---"
   ]
  },
  {
   "cell_type": "code",
   "execution_count": 9,
   "metadata": {},
   "outputs": [],
   "source": [
    "## PDFデータのロード\n",
    "### ライブラリの読み込み\n",
    "import os\n",
    "import openai\n",
    "from langchain.llms import OpenAI\n",
    "from langchain.document_loaders import PyPDFLoader\n",
    "\n",
    "## Embedding\n",
    "### ライブラリの読み込み\n",
    "from langchain.vectorstores import FAISS\n",
    "from langchain.embeddings.openai import OpenAIEmbeddings\n",
    "\n",
    "### Embedding & Indexing\n",
    "faiss_index = FAISS.from_documents(\n",
    "    pages,\n",
    "    OpenAIEmbeddings()# 文章の分散表現を作成するEmbeddingモデル\n",
    "    )\n",
    "faiss_index.save_local(\"../database/faiss_index\")"
   ]
  },
  {
   "cell_type": "code",
   "execution_count": 10,
   "metadata": {},
   "outputs": [
    {
     "name": "stdout",
     "output_type": "stream",
     "text": [
      "Query: \n",
      " \n",
      "概要を教えてください。\n",
      "\n",
      "Ans: \n",
      " この論文では、HIL（ハードウェア・イン・ザ・ループ）シミュレータを使用した改良型ICS（工業制御システム）セキュリティデータセットを用いて、監視型侵入検知システム（MIDS）のモデルを提案しています。提案手法は、機械学習アルゴリズムを使用して、ICSのノーマルおよび異常な動作を検出することを目的としています。研究では、K最近傍法（KNN）、ランダムフォレスト（RF）、決定木分類器（DTC）の3つの教師あり分類モデルが実装され、それぞれの性能が評価されました。結果として、RFアルゴリズムが最も高い精度と効率を示したことが示されています。\n"
     ]
    }
   ],
   "source": [
    "## Q&A\n",
    "### ライブラリの読み込み\n",
    "from langchain.chains import RetrievalQA\n",
    "from langchain.chat_models import ChatOpenAI\n",
    "from langchain.prompts import PromptTemplate\n",
    "\n",
    "### FAISS vectorのロード\n",
    "vectoreStore = FAISS.load_local(\"../database/faiss_index/\", OpenAIEmbeddings())\n",
    "## Retriever\n",
    "retriever = vectoreStore.as_retriever(search_type=\"similarity\", search_kwargs={\"k\":3})\n",
    "\n",
    "### プロンプト(Q&A)\n",
    "qa = RetrievalQA.from_chain_type(llm=ChatOpenAI(), chain_type=\"stuff\", retriever=retriever, return_source_documents=False)\n",
    "\n",
    "query =\"\"\"\n",
    "概要を教えてください。\n",
    "\"\"\"\n",
    "ans = qa({\"query\": query})\n",
    "print(\"Query: \\n\", query)\n",
    "print(\"Ans: \\n\", ans[\"result\"])"
   ]
  },
  {
   "cell_type": "code",
   "execution_count": 11,
   "metadata": {},
   "outputs": [
    {
     "name": "stdout",
     "output_type": "stream",
     "text": [
      "Query: \n",
      " \n",
      "Introducitonではどのようなことが書いてありましたか？\n",
      "\n",
      "Ans: \n",
      " Introductionでは、異常検知の概念について説明されています。異常検知は、侵入検知、障害検知、センサーネットワークでのイベント検知など、さまざまなドメインで行われます。ICSにおいては、正常な動作からの逸脱が異常と見なされ、故障検知や侵入検知として扱われます。また、MIDS（Measurement-based Intrusion Detection System）による異常検知の性能についても述べられています。\n"
     ]
    }
   ],
   "source": [
    "query =\"\"\"\n",
    "Introducitonではどのようなことが書いてありましたか？\n",
    "\"\"\"\n",
    "ans = qa({\"query\": query})\n",
    "print(\"Query: \\n\", query)\n",
    "print(\"Ans: \\n\", ans[\"result\"])"
   ]
  },
  {
   "cell_type": "code",
   "execution_count": 13,
   "metadata": {},
   "outputs": [],
   "source": [
    "def answer(query):\n",
    "    ans = qa({\"query\": query})\n",
    "    print(\"Query: \\n\", query)\n",
    "    print(\"Ans: \\n\", ans[\"result\"])"
   ]
  },
  {
   "cell_type": "code",
   "execution_count": 14,
   "metadata": {},
   "outputs": [
    {
     "name": "stdout",
     "output_type": "stream",
     "text": [
      "Query: \n",
      " \n",
      "    この論文は何が他と違って、秀でているのですか？\n",
      "    \n",
      "Ans: \n",
      " この論文は、計測データを使用して工業制御システム（ICS）の侵入検知を行うための機械学習モデルを開発し、故障検知の効果を評価するためにHIL（ハードウェア・イン・ループ）ベースの拡張されたICS（HAI）テストベッドのデータセットを使用するという点で他の研究とは異なります。従来の研究では、一般的に正常な活動データセットを使用して機械学習モデルをトレーニングしていましたが、この論文では制御システムの異常を検出するために制御システムの計測データを活用しています。また、HILテストベッドを使用することで、実際のシステムに損害を与えることなく、制御システムのセキュリティを向上させるためのラベル付きデータセットを生成することができます。さらに、異なる機械学習手法を比較し、提案されたデータセットに最適な学習モデルを見つけるためにランダムフォレストアルゴリズムを使用しています。\n"
     ]
    }
   ],
   "source": [
    "query =\"\"\"\n",
    "    この論文は何が他と違って、秀でているのですか？\n",
    "    \"\"\"\n",
    "answer(query)"
   ]
  },
  {
   "cell_type": "code",
   "execution_count": 15,
   "metadata": {},
   "outputs": [
    {
     "name": "stdout",
     "output_type": "stream",
     "text": [
      "Query: \n",
      " \n",
      "    この論文で行っているランダムフォレストのモデルを組むまでの前処理と、どのようにモデルを組んでいるかを説明してください。\n",
      "    なお、順序立てて説明してください。\n",
      "    \n",
      "Ans: \n",
      " この論文では、HILベースの拡張ICSセキュリティ（HAI）のデータセットを使用して、教師あり機械学習アルゴリズムを実装しています。\n",
      "\n",
      "まず、データセットの前処理が行われます。データセットに含まれるセンサーの測定値は、幅広い値を持っています。スケーリングされていないデータは、モデルのトレーニング手順で重大な問題を引き起こし、持続可能な学習プロセスにつながる可能性があります。そのため、MinMaxScaler関数を使用して測定データを適切な範囲にスケーリングします。\n",
      "\n",
      "前処理のステップが完了したら、データセットは機械学習モデルのトレーニングに使用する準備ができます。この研究では、K最近傍法（KNN）、ランダムフォレスト（RF）、決定木分類器（DTC）の教師あり分類モデルがデータセットに実装されています。これらのアルゴリズムは、この特定の問題に対して効果的であるため選ばれました。アルゴリズムのパフォーマンス評価では、2つの主要な要素が考慮されます。まず、対象の出力を分類するための正確さです。次に、適合と予測のために必要な時間です。最初の要素に関しては、混同行列が計算されます。この混同行列に基づいて、正確度、適合度、F1スコア、特異度、感度などの他の指標が計算されます。2番目の要素に関しては、トレーニングデータセットの適合とテストデータセットの予測のための計算時間が取得されます。\n",
      "\n",
      "以上の手順により、ランダムフォレストモデルが構築されます。\n"
     ]
    }
   ],
   "source": [
    "query =\"\"\"\n",
    "    この論文で行っているランダムフォレストのモデルを組むまでの前処理と、どのようにモデルを組んでいるかを説明してください。\n",
    "    なお、順序立てて説明してください。\n",
    "    \"\"\"\n",
    "answer(query)"
   ]
  },
  {
   "cell_type": "code",
   "execution_count": 16,
   "metadata": {},
   "outputs": [
    {
     "name": "stdout",
     "output_type": "stream",
     "text": [
      "Query: \n",
      " \n",
      "    データセットについて、各バージョンで何が更新されたのか、わかりやすいようにそれぞれのバージョンごとに説明してください。また、データセットの取得条件について詳細に説明してください。\n",
      "    \n",
      "Ans: \n",
      " 申し訳ありませんが、データセットの更新や取得条件についての具体的な情報は提供されていません。\n"
     ]
    }
   ],
   "source": [
    "query =\"\"\"\n",
    "    データセットについて、各バージョンで何が更新されたのか、わかりやすいようにそれぞれのバージョンごとに説明してください。また、データセットの取得条件について詳細に説明してください。\n",
    "    \"\"\"\n",
    "answer(query)"
   ]
  },
  {
   "cell_type": "code",
   "execution_count": 17,
   "metadata": {},
   "outputs": [
    {
     "name": "stdout",
     "output_type": "stream",
     "text": [
      "Query: \n",
      " \n",
      "    使用しているデータについての情報を教えてください。\n",
      "    \n",
      "Ans: \n",
      " 使用しているデータは、HILベースの拡張型ICSセキュリティ（HAI）のデータセットです。このテストベッドのデータセットは、4日間にわたって毎秒59個のセンサーの測定値を収集したものです。この期間中には28の攻撃がシステムに注入されています。これらの攻撃は、プロセス制御ループ（PCL）の14の基本的な攻撃の組み合わせであり、システムの4つのポイント（設定点、プロセス変数、制御出力、制御パラメータ）に影響を与えます。これらの攻撃はステルスタイプであり、従来のNIDSでは容易に検出することができません。\n"
     ]
    }
   ],
   "source": [
    "query =\"\"\"\n",
    "    使用しているデータについての情報を教えてください。\n",
    "    \"\"\"\n",
    "answer(query)"
   ]
  },
  {
   "cell_type": "code",
   "execution_count": null,
   "metadata": {},
   "outputs": [],
   "source": [
    "query =\"\"\"\n",
    "    この論文の概要を教えてください。\n",
    "    \"\"\"\n",
    "answer(query)"
   ]
  },
  {
   "cell_type": "code",
   "execution_count": null,
   "metadata": {},
   "outputs": [],
   "source": []
  }
 ],
 "metadata": {
  "kernelspec": {
   "display_name": "ResearchSummarizer",
   "language": "python",
   "name": "python3"
  },
  "language_info": {
   "codemirror_mode": {
    "name": "ipython",
    "version": 3
   },
   "file_extension": ".py",
   "mimetype": "text/x-python",
   "name": "python",
   "nbconvert_exporter": "python",
   "pygments_lexer": "ipython3",
   "version": "3.11.5"
  },
  "orig_nbformat": 4
 },
 "nbformat": 4,
 "nbformat_minor": 2
}
